{
 "cells": [
  {
   "cell_type": "code",
   "execution_count": 1,
   "id": "15ff53c4-d55b-40ee-811c-4bc8c3dfaac1",
   "metadata": {},
   "outputs": [
    {
     "name": "stdout",
     "output_type": "stream",
     "text": [
      "Accuracy on the test set: 0.3\n"
     ]
    },
    {
     "data": {
      "text/plain": [
       "['new_decision_tree_model.pkl']"
      ]
     },
     "execution_count": 1,
     "metadata": {},
     "output_type": "execute_result"
    }
   ],
   "source": [
    "from sklearn.tree import DecisionTreeClassifier\n",
    "from sklearn.model_selection import train_test_split\n",
    "from sklearn.metrics import accuracy_score\n",
    "import pandas as pd\n",
    "import joblib\n",
    "\n",
    "# Load the dataset\n",
    "dataset = pd.read_csv(\"input.csv\")  # Replace with your actual dataset filename\n",
    "\n",
    "# Mapping for the 'Invested In' categories\n",
    "invested_in_mapping = {\n",
    "    'Mutual Funds and Stocks': 0,\n",
    "    'Government Schemes': 1,\n",
    "    'Bank FDs': 2,\n",
    "    'Private Bank Investment': 3\n",
    "}\n",
    "\n",
    "# Map 'Invested In' to numerical values\n",
    "dataset['Invested In'] = dataset['Invested In'].map(invested_in_mapping)\n",
    "\n",
    "# Extract features (X) and target variable (y)\n",
    "X = dataset[['Gender', 'Age', 'Salary', 'Amount To Be Invested', 'Number Of Children', 'Domain Of Expertise']]\n",
    "y = dataset['Invested In']\n",
    "\n",
    "# One-hot encode categorical features\n",
    "X = pd.get_dummies(X, columns=['Gender', 'Domain Of Expertise'])\n",
    "\n",
    "# Split the data into training and testing sets\n",
    "X_train, X_test, y_train, y_test = train_test_split(X, y, test_size=0.2, random_state=42)\n",
    "\n",
    "# Create and train the decision tree model\n",
    "model = DecisionTreeClassifier(random_state=42)\n",
    "model.fit(X_train, y_train)\n",
    "\n",
    "# Evaluate model performance on the test set\n",
    "y_pred = model.predict(X_test)\n",
    "accuracy = accuracy_score(y_test, y_pred)\n",
    "print(f\"Accuracy on the test set: {accuracy}\")\n",
    "\n",
    "# Save the trained model\n",
    "model_filename = 'new_decision_tree_model.pkl'\n",
    "joblib.dump(model, model_filename)\n"
   ]
  },
  {
   "cell_type": "code",
   "execution_count": null,
   "id": "ee3aadcd-38b0-45d5-a8d9-c747ce9ca6a9",
   "metadata": {},
   "outputs": [],
   "source": []
  },
  {
   "cell_type": "code",
   "execution_count": null,
   "id": "dde81113-21f8-4274-8b34-3f3fa39f51df",
   "metadata": {},
   "outputs": [],
   "source": []
  },
  {
   "cell_type": "code",
   "execution_count": 2,
   "id": "2b13b9c6-99a2-46fd-aead-8455eb1c6729",
   "metadata": {},
   "outputs": [
    {
     "name": "stdout",
     "output_type": "stream",
     "text": [
      "Model Accuracy: 0.225\n"
     ]
    },
    {
     "data": {
      "text/plain": [
       "['decisiontreefin.pkl']"
      ]
     },
     "execution_count": 2,
     "metadata": {},
     "output_type": "execute_result"
    }
   ],
   "source": [
    "# Import necessary libraries\n",
    "import pandas as pd\n",
    "from sklearn.model_selection import train_test_split\n",
    "from sklearn.preprocessing import StandardScaler, OneHotEncoder\n",
    "from sklearn.compose import ColumnTransformer\n",
    "from sklearn.pipeline import Pipeline\n",
    "from sklearn.ensemble import RandomForestClassifier\n",
    "from sklearn.metrics import accuracy_score\n",
    "import joblib\n",
    "\n",
    "# Load your dataset (replace 'your_dataset.csv' with the actual filename)\n",
    "df = pd.read_csv('input.csv')\n",
    "\n",
    "# Define features and target variable\n",
    "X = df[['Gender', 'Age', 'Salary', 'Amount To Be Invested', 'Number Of Children', 'Domain Of Expertise']]\n",
    "y = df['Invested In']\n",
    "\n",
    "# Split the data into training and testing sets\n",
    "X_train, X_test, y_train, y_test = train_test_split(X, y, test_size=0.2, random_state=42)\n",
    "\n",
    "# Preprocessing for numerical and categorical data\n",
    "numeric_features = ['Age', 'Salary', 'Amount To Be Invested', 'Number Of Children']\n",
    "numeric_transformer = Pipeline(steps=[\n",
    "    ('scaler', StandardScaler())\n",
    "])\n",
    "\n",
    "categorical_features = ['Gender', 'Domain Of Expertise']\n",
    "categorical_transformer = Pipeline(steps=[\n",
    "    ('onehot', OneHotEncoder(handle_unknown='ignore'))\n",
    "])\n",
    "\n",
    "# Combine preprocessing steps\n",
    "preprocessor = ColumnTransformer(\n",
    "    transformers=[\n",
    "        ('num', numeric_transformer, numeric_features),\n",
    "        ('cat', categorical_transformer, categorical_features)\n",
    "    ])\n",
    "\n",
    "# Define the model\n",
    "model = Pipeline(steps=[\n",
    "    ('preprocessor', preprocessor),\n",
    "    ('classifier', RandomForestClassifier(random_state=42))\n",
    "])\n",
    "\n",
    "# Train the model\n",
    "model.fit(X_train, y_train)\n",
    "\n",
    "# Make predictions on the test set\n",
    "y_pred = model.predict(X_test)\n",
    "\n",
    "# Evaluate the model\n",
    "accuracy = accuracy_score(y_test, y_pred)\n",
    "print(f'Model Accuracy: {accuracy}')\n",
    "\n",
    "# Save the trained model to a file\n",
    "joblib.dump(model, 'decisiontreefin.pkl')\n"
   ]
  },
  {
   "cell_type": "code",
   "execution_count": null,
   "id": "974a4a8e-f29e-4a86-ae57-762137cad814",
   "metadata": {},
   "outputs": [],
   "source": []
  },
  {
   "cell_type": "code",
   "execution_count": 3,
   "id": "561266d8-c2e1-4f07-aaab-38b213dd9ac0",
   "metadata": {},
   "outputs": [
    {
     "name": "stdout",
     "output_type": "stream",
     "text": [
      "Model Accuracy: 0.275\n"
     ]
    },
    {
     "data": {
      "text/plain": [
       "['investment_model.pkl']"
      ]
     },
     "execution_count": 3,
     "metadata": {},
     "output_type": "execute_result"
    }
   ],
   "source": [
    "# Import necessary libraries\n",
    "import pandas as pd\n",
    "from sklearn.model_selection import train_test_split\n",
    "from sklearn.ensemble import RandomForestClassifier\n",
    "from sklearn.metrics import accuracy_score\n",
    "import joblib\n",
    "\n",
    "# Load your dataset (replace 'your_dataset.csv' with your actual dataset)\n",
    "data = pd.read_csv('input.csv')\n",
    "\n",
    "# Preprocess the data\n",
    "# (Handle missing values, encode categorical variables, etc.)\n",
    "\n",
    "# Separate features and target variable\n",
    "X = data.drop('Invested In', axis=1)\n",
    "y = data['Invested In']\n",
    "\n",
    "# Encode categorical variables\n",
    "X = pd.get_dummies(X)\n",
    "\n",
    "# Split the data into training and testing sets\n",
    "X_train, X_test, y_train, y_test = train_test_split(X, y, test_size=0.2, random_state=42)\n",
    "\n",
    "# Train a Random Forest Classifier\n",
    "model = RandomForestClassifier()\n",
    "model.fit(X_train, y_train)\n",
    "\n",
    "# Make predictions on the test set\n",
    "y_pred = model.predict(X_test)\n",
    "\n",
    "# Evaluate the model\n",
    "accuracy = accuracy_score(y_test, y_pred)\n",
    "print(f'Model Accuracy: {accuracy}')\n",
    "\n",
    "# Save the model to a file\n",
    "joblib.dump(model, 'investment_model.pkl')\n"
   ]
  },
  {
   "cell_type": "code",
   "execution_count": 4,
   "id": "83b7cc65-cb64-4a48-95e0-bff8886d641f",
   "metadata": {},
   "outputs": [
    {
     "name": "stdout",
     "output_type": "stream",
     "text": [
      "Model Accuracy: 0.3\n"
     ]
    },
    {
     "data": {
      "text/plain": [
       "['investment_model1.pkl']"
      ]
     },
     "execution_count": 4,
     "metadata": {},
     "output_type": "execute_result"
    }
   ],
   "source": [
    "# Import necessary libraries\n",
    "import pandas as pd\n",
    "from sklearn.model_selection import train_test_split\n",
    "from sklearn.ensemble import RandomForestClassifier\n",
    "from sklearn.preprocessing import LabelEncoder\n",
    "from sklearn.metrics import accuracy_score\n",
    "import joblib\n",
    "\n",
    "# Load your dataset (replace 'your_dataset.csv' with your actual dataset)\n",
    "data = pd.read_csv('input.csv')\n",
    "\n",
    "# Preprocess the data\n",
    "# Assuming your dataset is clean, but you might need to handle missing values and perform other preprocessing steps\n",
    "\n",
    "# Encode categorical variables\n",
    "label_encoder = LabelEncoder()\n",
    "data['Gender'] = label_encoder.fit_transform(data['Gender'])\n",
    "data['Domain Of Expertise'] = label_encoder.fit_transform(data['Domain Of Expertise'])\n",
    "data['Invested In'] = label_encoder.fit_transform(data['Invested In'])\n",
    "\n",
    "# Separate features and target variable\n",
    "X = data.drop('Invested In', axis=1)\n",
    "y = data['Invested In']\n",
    "\n",
    "# Split the data into training and testing sets\n",
    "X_train, X_test, y_train, y_test = train_test_split(X, y, test_size=0.2, random_state=42)\n",
    "\n",
    "# Train a Random Forest Classifier\n",
    "model = RandomForestClassifier()\n",
    "model.fit(X_train, y_train)\n",
    "\n",
    "# Make predictions on the test set\n",
    "y_pred = model.predict(X_test)\n",
    "\n",
    "# Evaluate the model\n",
    "accuracy = accuracy_score(y_test, y_pred)\n",
    "print(f'Model Accuracy: {accuracy}')\n",
    "\n",
    "# Save the model to a file\n",
    "joblib.dump(model, 'investment_model1.pkl')\n"
   ]
  },
  {
   "cell_type": "code",
   "execution_count": null,
   "id": "32f40cb4-331b-4e9f-ae9b-0498eb07433e",
   "metadata": {},
   "outputs": [],
   "source": []
  }
 ],
 "metadata": {
  "kernelspec": {
   "display_name": "Python 3 (ipykernel)",
   "language": "python",
   "name": "python3"
  },
  "language_info": {
   "codemirror_mode": {
    "name": "ipython",
    "version": 3
   },
   "file_extension": ".py",
   "mimetype": "text/x-python",
   "name": "python",
   "nbconvert_exporter": "python",
   "pygments_lexer": "ipython3",
   "version": "3.8.10"
  }
 },
 "nbformat": 4,
 "nbformat_minor": 5
}
