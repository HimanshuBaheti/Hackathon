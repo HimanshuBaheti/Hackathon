{
 "cells": [
  {
   "cell_type": "code",
   "execution_count": 2,
   "id": "32399111-28d0-4963-a656-882ffe1bf59d",
   "metadata": {},
   "outputs": [],
   "source": [
    "from sklearn.tree import DecisionTreeClassifier\n",
    "import pandas as pd\n",
    "from sklearn.preprocessing import OneHotEncoder"
   ]
  },
  {
   "cell_type": "code",
   "execution_count": 3,
   "id": "713eca33-7e7f-40f8-bf66-4a72bc908bc2",
   "metadata": {},
   "outputs": [
    {
     "data": {
      "text/html": [
       "<div>\n",
       "<style scoped>\n",
       "    .dataframe tbody tr th:only-of-type {\n",
       "        vertical-align: middle;\n",
       "    }\n",
       "\n",
       "    .dataframe tbody tr th {\n",
       "        vertical-align: top;\n",
       "    }\n",
       "\n",
       "    .dataframe thead th {\n",
       "        text-align: right;\n",
       "    }\n",
       "</style>\n",
       "<table border=\"1\" class=\"dataframe\">\n",
       "  <thead>\n",
       "    <tr style=\"text-align: right;\">\n",
       "      <th></th>\n",
       "      <th>Gender</th>\n",
       "      <th>Age</th>\n",
       "      <th>Salary</th>\n",
       "      <th>Amount To Be Invested</th>\n",
       "      <th>Number Of Children</th>\n",
       "      <th>Domain Of Expertise</th>\n",
       "      <th>Invested In</th>\n",
       "    </tr>\n",
       "  </thead>\n",
       "  <tbody>\n",
       "    <tr>\n",
       "      <th>0</th>\n",
       "      <td>Female</td>\n",
       "      <td>60</td>\n",
       "      <td>8000000</td>\n",
       "      <td>500000</td>\n",
       "      <td>2</td>\n",
       "      <td>Automobile Industry</td>\n",
       "      <td>Mutual Funds and Stocks</td>\n",
       "    </tr>\n",
       "    <tr>\n",
       "      <th>1</th>\n",
       "      <td>Male</td>\n",
       "      <td>56</td>\n",
       "      <td>8000000</td>\n",
       "      <td>300000</td>\n",
       "      <td>2</td>\n",
       "      <td>Medicine</td>\n",
       "      <td>Government Schemes</td>\n",
       "    </tr>\n",
       "    <tr>\n",
       "      <th>2</th>\n",
       "      <td>Female</td>\n",
       "      <td>60</td>\n",
       "      <td>8000000</td>\n",
       "      <td>500000</td>\n",
       "      <td>2</td>\n",
       "      <td>Finance</td>\n",
       "      <td>Bank FDs</td>\n",
       "    </tr>\n",
       "    <tr>\n",
       "      <th>3</th>\n",
       "      <td>Female</td>\n",
       "      <td>59</td>\n",
       "      <td>5000000</td>\n",
       "      <td>200000</td>\n",
       "      <td>2</td>\n",
       "      <td>IT</td>\n",
       "      <td>Bank FDs</td>\n",
       "    </tr>\n",
       "    <tr>\n",
       "      <th>4</th>\n",
       "      <td>Female</td>\n",
       "      <td>56</td>\n",
       "      <td>3000000</td>\n",
       "      <td>200000</td>\n",
       "      <td>2</td>\n",
       "      <td>Automobile Industry</td>\n",
       "      <td>Bank FDs</td>\n",
       "    </tr>\n",
       "    <tr>\n",
       "      <th>...</th>\n",
       "      <td>...</td>\n",
       "      <td>...</td>\n",
       "      <td>...</td>\n",
       "      <td>...</td>\n",
       "      <td>...</td>\n",
       "      <td>...</td>\n",
       "      <td>...</td>\n",
       "    </tr>\n",
       "    <tr>\n",
       "      <th>195</th>\n",
       "      <td>Female</td>\n",
       "      <td>61</td>\n",
       "      <td>5000000</td>\n",
       "      <td>300000</td>\n",
       "      <td>2</td>\n",
       "      <td>Finance</td>\n",
       "      <td>Mutual Funds and Stocks</td>\n",
       "    </tr>\n",
       "    <tr>\n",
       "      <th>196</th>\n",
       "      <td>Male</td>\n",
       "      <td>57</td>\n",
       "      <td>5000000</td>\n",
       "      <td>500000</td>\n",
       "      <td>1</td>\n",
       "      <td>Medicine</td>\n",
       "      <td>Government Schemes</td>\n",
       "    </tr>\n",
       "    <tr>\n",
       "      <th>197</th>\n",
       "      <td>Female</td>\n",
       "      <td>56</td>\n",
       "      <td>10000000</td>\n",
       "      <td>300000</td>\n",
       "      <td>2</td>\n",
       "      <td>IT</td>\n",
       "      <td>Private Bank Investment</td>\n",
       "    </tr>\n",
       "    <tr>\n",
       "      <th>198</th>\n",
       "      <td>Female</td>\n",
       "      <td>59</td>\n",
       "      <td>5000000</td>\n",
       "      <td>500000</td>\n",
       "      <td>2</td>\n",
       "      <td>Automobile Industry</td>\n",
       "      <td>Bank FDs</td>\n",
       "    </tr>\n",
       "    <tr>\n",
       "      <th>199</th>\n",
       "      <td>Female</td>\n",
       "      <td>59</td>\n",
       "      <td>3000000</td>\n",
       "      <td>300000</td>\n",
       "      <td>1</td>\n",
       "      <td>Legal</td>\n",
       "      <td>Bank FDs</td>\n",
       "    </tr>\n",
       "  </tbody>\n",
       "</table>\n",
       "<p>200 rows × 7 columns</p>\n",
       "</div>"
      ],
      "text/plain": [
       "     Gender  Age    Salary  Amount To Be Invested  Number Of Children  \\\n",
       "0    Female   60   8000000                 500000                   2   \n",
       "1      Male   56   8000000                 300000                   2   \n",
       "2    Female   60   8000000                 500000                   2   \n",
       "3    Female   59   5000000                 200000                   2   \n",
       "4    Female   56   3000000                 200000                   2   \n",
       "..      ...  ...       ...                    ...                 ...   \n",
       "195  Female   61   5000000                 300000                   2   \n",
       "196    Male   57   5000000                 500000                   1   \n",
       "197  Female   56  10000000                 300000                   2   \n",
       "198  Female   59   5000000                 500000                   2   \n",
       "199  Female   59   3000000                 300000                   1   \n",
       "\n",
       "     Domain Of Expertise              Invested In  \n",
       "0    Automobile Industry  Mutual Funds and Stocks  \n",
       "1               Medicine       Government Schemes  \n",
       "2                Finance                 Bank FDs  \n",
       "3                     IT                 Bank FDs  \n",
       "4    Automobile Industry                 Bank FDs  \n",
       "..                   ...                      ...  \n",
       "195              Finance  Mutual Funds and Stocks  \n",
       "196             Medicine       Government Schemes  \n",
       "197                   IT  Private Bank Investment  \n",
       "198  Automobile Industry                 Bank FDs  \n",
       "199                Legal                 Bank FDs  \n",
       "\n",
       "[200 rows x 7 columns]"
      ]
     },
     "execution_count": 3,
     "metadata": {},
     "output_type": "execute_result"
    }
   ],
   "source": [
    "dataset = pd.read_csv(\"input.csv\")\n",
    "dataset\n"
   ]
  },
  {
   "cell_type": "code",
   "execution_count": 4,
   "id": "2cc49e78-7dee-4d5d-984b-8adac9377b99",
   "metadata": {},
   "outputs": [],
   "source": [
    "dataset_encoded = pd.get_dummies(dataset, columns=['Gender', 'Domain Of Expertise'])"
   ]
  },
  {
   "cell_type": "code",
   "execution_count": 5,
   "id": "af85323a-3ed6-4f94-914f-1de1da43589e",
   "metadata": {},
   "outputs": [],
   "source": [
    "X = dataset_encoded.drop('Invested In', axis=1)\n",
    "y = dataset_encoded['Invested In']"
   ]
  },
  {
   "cell_type": "code",
   "execution_count": 6,
   "id": "405cd68b-2669-42f5-a566-f06108ac361a",
   "metadata": {},
   "outputs": [
    {
     "data": {
      "text/html": [
       "<style>#sk-container-id-1 {color: black;}#sk-container-id-1 pre{padding: 0;}#sk-container-id-1 div.sk-toggleable {background-color: white;}#sk-container-id-1 label.sk-toggleable__label {cursor: pointer;display: block;width: 100%;margin-bottom: 0;padding: 0.3em;box-sizing: border-box;text-align: center;}#sk-container-id-1 label.sk-toggleable__label-arrow:before {content: \"▸\";float: left;margin-right: 0.25em;color: #696969;}#sk-container-id-1 label.sk-toggleable__label-arrow:hover:before {color: black;}#sk-container-id-1 div.sk-estimator:hover label.sk-toggleable__label-arrow:before {color: black;}#sk-container-id-1 div.sk-toggleable__content {max-height: 0;max-width: 0;overflow: hidden;text-align: left;background-color: #f0f8ff;}#sk-container-id-1 div.sk-toggleable__content pre {margin: 0.2em;color: black;border-radius: 0.25em;background-color: #f0f8ff;}#sk-container-id-1 input.sk-toggleable__control:checked~div.sk-toggleable__content {max-height: 200px;max-width: 100%;overflow: auto;}#sk-container-id-1 input.sk-toggleable__control:checked~label.sk-toggleable__label-arrow:before {content: \"▾\";}#sk-container-id-1 div.sk-estimator input.sk-toggleable__control:checked~label.sk-toggleable__label {background-color: #d4ebff;}#sk-container-id-1 div.sk-label input.sk-toggleable__control:checked~label.sk-toggleable__label {background-color: #d4ebff;}#sk-container-id-1 input.sk-hidden--visually {border: 0;clip: rect(1px 1px 1px 1px);clip: rect(1px, 1px, 1px, 1px);height: 1px;margin: -1px;overflow: hidden;padding: 0;position: absolute;width: 1px;}#sk-container-id-1 div.sk-estimator {font-family: monospace;background-color: #f0f8ff;border: 1px dotted black;border-radius: 0.25em;box-sizing: border-box;margin-bottom: 0.5em;}#sk-container-id-1 div.sk-estimator:hover {background-color: #d4ebff;}#sk-container-id-1 div.sk-parallel-item::after {content: \"\";width: 100%;border-bottom: 1px solid gray;flex-grow: 1;}#sk-container-id-1 div.sk-label:hover label.sk-toggleable__label {background-color: #d4ebff;}#sk-container-id-1 div.sk-serial::before {content: \"\";position: absolute;border-left: 1px solid gray;box-sizing: border-box;top: 0;bottom: 0;left: 50%;z-index: 0;}#sk-container-id-1 div.sk-serial {display: flex;flex-direction: column;align-items: center;background-color: white;padding-right: 0.2em;padding-left: 0.2em;position: relative;}#sk-container-id-1 div.sk-item {position: relative;z-index: 1;}#sk-container-id-1 div.sk-parallel {display: flex;align-items: stretch;justify-content: center;background-color: white;position: relative;}#sk-container-id-1 div.sk-item::before, #sk-container-id-1 div.sk-parallel-item::before {content: \"\";position: absolute;border-left: 1px solid gray;box-sizing: border-box;top: 0;bottom: 0;left: 50%;z-index: -1;}#sk-container-id-1 div.sk-parallel-item {display: flex;flex-direction: column;z-index: 1;position: relative;background-color: white;}#sk-container-id-1 div.sk-parallel-item:first-child::after {align-self: flex-end;width: 50%;}#sk-container-id-1 div.sk-parallel-item:last-child::after {align-self: flex-start;width: 50%;}#sk-container-id-1 div.sk-parallel-item:only-child::after {width: 0;}#sk-container-id-1 div.sk-dashed-wrapped {border: 1px dashed gray;margin: 0 0.4em 0.5em 0.4em;box-sizing: border-box;padding-bottom: 0.4em;background-color: white;}#sk-container-id-1 div.sk-label label {font-family: monospace;font-weight: bold;display: inline-block;line-height: 1.2em;}#sk-container-id-1 div.sk-label-container {text-align: center;}#sk-container-id-1 div.sk-container {/* jupyter's `normalize.less` sets `[hidden] { display: none; }` but bootstrap.min.css set `[hidden] { display: none !important; }` so we also need the `!important` here to be able to override the default hidden behavior on the sphinx rendered scikit-learn.org. See: https://github.com/scikit-learn/scikit-learn/issues/21755 */display: inline-block !important;position: relative;}#sk-container-id-1 div.sk-text-repr-fallback {display: none;}</style><div id=\"sk-container-id-1\" class=\"sk-top-container\"><div class=\"sk-text-repr-fallback\"><pre>DecisionTreeClassifier()</pre><b>In a Jupyter environment, please rerun this cell to show the HTML representation or trust the notebook. <br />On GitHub, the HTML representation is unable to render, please try loading this page with nbviewer.org.</b></div><div class=\"sk-container\" hidden><div class=\"sk-item\"><div class=\"sk-estimator sk-toggleable\"><input class=\"sk-toggleable__control sk-hidden--visually\" id=\"sk-estimator-id-1\" type=\"checkbox\" checked><label for=\"sk-estimator-id-1\" class=\"sk-toggleable__label sk-toggleable__label-arrow\">DecisionTreeClassifier</label><div class=\"sk-toggleable__content\"><pre>DecisionTreeClassifier()</pre></div></div></div></div></div>"
      ],
      "text/plain": [
       "DecisionTreeClassifier()"
      ]
     },
     "execution_count": 6,
     "metadata": {},
     "output_type": "execute_result"
    }
   ],
   "source": [
    "model = DecisionTreeClassifier()\n",
    "model.fit(X, y)"
   ]
  },
  {
   "cell_type": "code",
   "execution_count": 7,
   "id": "5a56540a-6c76-4cc7-b64c-cd1c7050d152",
   "metadata": {},
   "outputs": [],
   "source": [
    "one_hot_columns = dataset_encoded.drop('Invested In', axis=1).columns"
   ]
  },
  {
   "cell_type": "code",
   "execution_count": 8,
   "id": "b2ee66f2-267d-4c72-b7b2-4199a8bd46a6",
   "metadata": {},
   "outputs": [],
   "source": [
    "new_user = {\n",
    "    'Gender': 'Male',\n",
    "    'Age': 60,\n",
    "    'Salary': '6000000',\n",
    "    'Amount To Be Invested': '300000',\n",
    "    'Number Of Children':'1',\n",
    "    'Domain Of Expertise': 'Medicine'\n",
    "}"
   ]
  },
  {
   "cell_type": "code",
   "execution_count": 9,
   "id": "f5236eca-cf40-4306-a473-0ba046baa4ab",
   "metadata": {},
   "outputs": [],
   "source": [
    "new_user_df = pd.DataFrame([new_user])"
   ]
  },
  {
   "cell_type": "code",
   "execution_count": 10,
   "id": "265d7e8f-9efb-468a-bf94-023fa98bd4f2",
   "metadata": {},
   "outputs": [],
   "source": [
    "new_user_encoded = pd.get_dummies(new_user_df, columns=['Gender', 'Domain Of Expertise'])"
   ]
  },
  {
   "cell_type": "code",
   "execution_count": 11,
   "id": "67bd7281-320e-4923-b94a-e1b4b4ecd096",
   "metadata": {},
   "outputs": [],
   "source": [
    "new_user_encoded = new_user_encoded.reindex(columns=one_hot_columns, fill_value=0)"
   ]
  },
  {
   "cell_type": "code",
   "execution_count": 12,
   "id": "9b189601-47ac-4d69-8d23-c2e9a0319127",
   "metadata": {},
   "outputs": [
    {
     "name": "stdout",
     "output_type": "stream",
     "text": [
      "Recommended Investment for the new user: Government Schemes\n"
     ]
    }
   ],
   "source": [
    "prediction = model.predict(new_user_encoded)\n",
    "print(\"Recommended Investment for the new user:\", prediction[0])"
   ]
  },
  {
   "cell_type": "code",
   "execution_count": 13,
   "id": "ed409536-f584-432c-8621-6f2d02f7e548",
   "metadata": {},
   "outputs": [
    {
     "data": {
      "text/plain": [
       "['decision_tree_model.pkl']"
      ]
     },
     "execution_count": 13,
     "metadata": {},
     "output_type": "execute_result"
    }
   ],
   "source": [
    "import joblib\n",
    "model_filename = 'decision_tree_model.pkl'\n",
    "joblib.dump(model, model_filename)"
   ]
  },
  {
   "cell_type": "code",
   "execution_count": null,
   "id": "763db7b1-8e41-4dda-aae8-1d4173090ec7",
   "metadata": {},
   "outputs": [],
   "source": []
  },
  {
   "cell_type": "code",
   "execution_count": null,
   "id": "00634581-c8f0-4ca0-aa79-e3fd12790f4e",
   "metadata": {},
   "outputs": [],
   "source": []
  },
  {
   "cell_type": "code",
   "execution_count": null,
   "id": "881d3cf8-aaeb-4b75-9c05-5b23cb846c62",
   "metadata": {},
   "outputs": [],
   "source": []
  }
 ],
 "metadata": {
  "kernelspec": {
   "display_name": "Python 3 (ipykernel)",
   "language": "python",
   "name": "python3"
  },
  "language_info": {
   "codemirror_mode": {
    "name": "ipython",
    "version": 3
   },
   "file_extension": ".py",
   "mimetype": "text/x-python",
   "name": "python",
   "nbconvert_exporter": "python",
   "pygments_lexer": "ipython3",
   "version": "3.8.10"
  }
 },
 "nbformat": 4,
 "nbformat_minor": 5
}
