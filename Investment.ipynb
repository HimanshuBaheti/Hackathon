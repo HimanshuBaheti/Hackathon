{
 "cells": [
  {
   "cell_type": "code",
   "execution_count": 49,
   "id": "a2ac84bd-e87f-43a9-8dec-d94bb6c2b473",
   "metadata": {},
   "outputs": [],
   "source": [
    "from sklearn.tree import DecisionTreeClassifier\n",
    "import pandas as pd\n",
    "from sklearn.preprocessing import OneHotEncoder"
   ]
  },
  {
   "cell_type": "code",
   "execution_count": 50,
   "id": "3d551dd8-1da9-4c67-a553-4e8141ffe70b",
   "metadata": {},
   "outputs": [
    {
     "data": {
      "text/html": [
       "<div>\n",
       "<style scoped>\n",
       "    .dataframe tbody tr th:only-of-type {\n",
       "        vertical-align: middle;\n",
       "    }\n",
       "\n",
       "    .dataframe tbody tr th {\n",
       "        vertical-align: top;\n",
       "    }\n",
       "\n",
       "    .dataframe thead th {\n",
       "        text-align: right;\n",
       "    }\n",
       "</style>\n",
       "<table border=\"1\" class=\"dataframe\">\n",
       "  <thead>\n",
       "    <tr style=\"text-align: right;\">\n",
       "      <th></th>\n",
       "      <th>Gender</th>\n",
       "      <th>Age</th>\n",
       "      <th>Salary</th>\n",
       "      <th>Amount To Be Invested</th>\n",
       "      <th>Number Of Children</th>\n",
       "      <th>Domain Of Expertise</th>\n",
       "      <th>Invested In</th>\n",
       "    </tr>\n",
       "  </thead>\n",
       "  <tbody>\n",
       "    <tr>\n",
       "      <th>0</th>\n",
       "      <td>Female</td>\n",
       "      <td>60</td>\n",
       "      <td>8000000</td>\n",
       "      <td>500000</td>\n",
       "      <td>2</td>\n",
       "      <td>Automobile Industry</td>\n",
       "      <td>Mutual Funds and Stocks</td>\n",
       "    </tr>\n",
       "    <tr>\n",
       "      <th>1</th>\n",
       "      <td>Male</td>\n",
       "      <td>56</td>\n",
       "      <td>8000000</td>\n",
       "      <td>300000</td>\n",
       "      <td>2</td>\n",
       "      <td>Medicine</td>\n",
       "      <td>Government Schemes</td>\n",
       "    </tr>\n",
       "    <tr>\n",
       "      <th>2</th>\n",
       "      <td>Female</td>\n",
       "      <td>60</td>\n",
       "      <td>8000000</td>\n",
       "      <td>500000</td>\n",
       "      <td>2</td>\n",
       "      <td>Finance</td>\n",
       "      <td>Bank FDs</td>\n",
       "    </tr>\n",
       "    <tr>\n",
       "      <th>3</th>\n",
       "      <td>Female</td>\n",
       "      <td>59</td>\n",
       "      <td>5000000</td>\n",
       "      <td>200000</td>\n",
       "      <td>2</td>\n",
       "      <td>IT</td>\n",
       "      <td>Bank FDs</td>\n",
       "    </tr>\n",
       "    <tr>\n",
       "      <th>4</th>\n",
       "      <td>Female</td>\n",
       "      <td>56</td>\n",
       "      <td>3000000</td>\n",
       "      <td>200000</td>\n",
       "      <td>2</td>\n",
       "      <td>Automobile Industry</td>\n",
       "      <td>Bank FDs</td>\n",
       "    </tr>\n",
       "    <tr>\n",
       "      <th>...</th>\n",
       "      <td>...</td>\n",
       "      <td>...</td>\n",
       "      <td>...</td>\n",
       "      <td>...</td>\n",
       "      <td>...</td>\n",
       "      <td>...</td>\n",
       "      <td>...</td>\n",
       "    </tr>\n",
       "    <tr>\n",
       "      <th>195</th>\n",
       "      <td>Female</td>\n",
       "      <td>61</td>\n",
       "      <td>5000000</td>\n",
       "      <td>300000</td>\n",
       "      <td>2</td>\n",
       "      <td>Finance</td>\n",
       "      <td>Mutual Funds and Stocks</td>\n",
       "    </tr>\n",
       "    <tr>\n",
       "      <th>196</th>\n",
       "      <td>Male</td>\n",
       "      <td>57</td>\n",
       "      <td>5000000</td>\n",
       "      <td>500000</td>\n",
       "      <td>1</td>\n",
       "      <td>Medicine</td>\n",
       "      <td>Government Schemes</td>\n",
       "    </tr>\n",
       "    <tr>\n",
       "      <th>197</th>\n",
       "      <td>Female</td>\n",
       "      <td>56</td>\n",
       "      <td>10000000</td>\n",
       "      <td>300000</td>\n",
       "      <td>2</td>\n",
       "      <td>IT</td>\n",
       "      <td>Private Bank Investment</td>\n",
       "    </tr>\n",
       "    <tr>\n",
       "      <th>198</th>\n",
       "      <td>Female</td>\n",
       "      <td>59</td>\n",
       "      <td>5000000</td>\n",
       "      <td>500000</td>\n",
       "      <td>2</td>\n",
       "      <td>Automobile Industry</td>\n",
       "      <td>Bank FDs</td>\n",
       "    </tr>\n",
       "    <tr>\n",
       "      <th>199</th>\n",
       "      <td>Female</td>\n",
       "      <td>59</td>\n",
       "      <td>3000000</td>\n",
       "      <td>300000</td>\n",
       "      <td>1</td>\n",
       "      <td>Legal</td>\n",
       "      <td>Bank FDs</td>\n",
       "    </tr>\n",
       "  </tbody>\n",
       "</table>\n",
       "<p>200 rows × 7 columns</p>\n",
       "</div>"
      ],
      "text/plain": [
       "     Gender  Age    Salary  Amount To Be Invested  Number Of Children  \\\n",
       "0    Female   60   8000000                 500000                   2   \n",
       "1      Male   56   8000000                 300000                   2   \n",
       "2    Female   60   8000000                 500000                   2   \n",
       "3    Female   59   5000000                 200000                   2   \n",
       "4    Female   56   3000000                 200000                   2   \n",
       "..      ...  ...       ...                    ...                 ...   \n",
       "195  Female   61   5000000                 300000                   2   \n",
       "196    Male   57   5000000                 500000                   1   \n",
       "197  Female   56  10000000                 300000                   2   \n",
       "198  Female   59   5000000                 500000                   2   \n",
       "199  Female   59   3000000                 300000                   1   \n",
       "\n",
       "     Domain Of Expertise              Invested In  \n",
       "0    Automobile Industry  Mutual Funds and Stocks  \n",
       "1               Medicine       Government Schemes  \n",
       "2                Finance                 Bank FDs  \n",
       "3                     IT                 Bank FDs  \n",
       "4    Automobile Industry                 Bank FDs  \n",
       "..                   ...                      ...  \n",
       "195              Finance  Mutual Funds and Stocks  \n",
       "196             Medicine       Government Schemes  \n",
       "197                   IT  Private Bank Investment  \n",
       "198  Automobile Industry                 Bank FDs  \n",
       "199                Legal                 Bank FDs  \n",
       "\n",
       "[200 rows x 7 columns]"
      ]
     },
     "execution_count": 50,
     "metadata": {},
     "output_type": "execute_result"
    }
   ],
   "source": [
    "dataset = pd.read_csv(\"input.csv\")\n",
    "dataset\n"
   ]
  },
  {
   "cell_type": "code",
   "execution_count": 51,
   "id": "1db71921-ccbd-495a-ba75-277892e88700",
   "metadata": {},
   "outputs": [],
   "source": [
    "new_user = {\n",
    "    'Gender': 'Male',\n",
    "    'Age': 60,\n",
    "    'Salary': '6000000',\n",
    "    'Amount To Be Invested': '300000',\n",
    "    'Number Of Children':'1',\n",
    "    'Domain Of Expertise': 'Medicine',\n",
    "    'Invested In': 'Private Bank Investment'\n",
    "}"
   ]
  },
  {
   "cell_type": "code",
   "execution_count": 52,
   "id": "188d4c23-980f-4e18-946b-ecf414419409",
   "metadata": {},
   "outputs": [
    {
     "name": "stderr",
     "output_type": "stream",
     "text": [
      "C:\\Users\\Himanshu Baheti\\AppData\\Local\\Temp\\ipykernel_16500\\976042171.py:1: FutureWarning: The frame.append method is deprecated and will be removed from pandas in a future version. Use pandas.concat instead.\n",
      "  dataset = dataset.append(new_user, ignore_index=True)\n"
     ]
    }
   ],
   "source": [
    "dataset = dataset.append(new_user, ignore_index=True)"
   ]
  },
  {
   "cell_type": "code",
   "execution_count": 53,
   "id": "5bdc2ed6-d988-4225-a68d-2b0ef6be368b",
   "metadata": {},
   "outputs": [],
   "source": [
    "dataset = pd.get_dummies(dataset, columns=['Gender', 'Domain Of Expertise'])"
   ]
  },
  {
   "cell_type": "code",
   "execution_count": 54,
   "id": "9b7f3cc4-cae6-4338-bcdf-a23facc9e6c3",
   "metadata": {},
   "outputs": [],
   "source": [
    "X = dataset.drop('Invested In', axis=1)\n",
    "y = dataset['Invested In']"
   ]
  },
  {
   "cell_type": "code",
   "execution_count": 55,
   "id": "ed148f38-aca6-43a9-9662-2683d8c98711",
   "metadata": {},
   "outputs": [],
   "source": [
    "dataset.to_csv(\"test2.csv\")"
   ]
  },
  {
   "cell_type": "code",
   "execution_count": 56,
   "id": "d850e82f-e254-4f6a-8193-ea132c0b517a",
   "metadata": {},
   "outputs": [
    {
     "data": {
      "text/html": [
       "<style>#sk-container-id-3 {color: black;}#sk-container-id-3 pre{padding: 0;}#sk-container-id-3 div.sk-toggleable {background-color: white;}#sk-container-id-3 label.sk-toggleable__label {cursor: pointer;display: block;width: 100%;margin-bottom: 0;padding: 0.3em;box-sizing: border-box;text-align: center;}#sk-container-id-3 label.sk-toggleable__label-arrow:before {content: \"▸\";float: left;margin-right: 0.25em;color: #696969;}#sk-container-id-3 label.sk-toggleable__label-arrow:hover:before {color: black;}#sk-container-id-3 div.sk-estimator:hover label.sk-toggleable__label-arrow:before {color: black;}#sk-container-id-3 div.sk-toggleable__content {max-height: 0;max-width: 0;overflow: hidden;text-align: left;background-color: #f0f8ff;}#sk-container-id-3 div.sk-toggleable__content pre {margin: 0.2em;color: black;border-radius: 0.25em;background-color: #f0f8ff;}#sk-container-id-3 input.sk-toggleable__control:checked~div.sk-toggleable__content {max-height: 200px;max-width: 100%;overflow: auto;}#sk-container-id-3 input.sk-toggleable__control:checked~label.sk-toggleable__label-arrow:before {content: \"▾\";}#sk-container-id-3 div.sk-estimator input.sk-toggleable__control:checked~label.sk-toggleable__label {background-color: #d4ebff;}#sk-container-id-3 div.sk-label input.sk-toggleable__control:checked~label.sk-toggleable__label {background-color: #d4ebff;}#sk-container-id-3 input.sk-hidden--visually {border: 0;clip: rect(1px 1px 1px 1px);clip: rect(1px, 1px, 1px, 1px);height: 1px;margin: -1px;overflow: hidden;padding: 0;position: absolute;width: 1px;}#sk-container-id-3 div.sk-estimator {font-family: monospace;background-color: #f0f8ff;border: 1px dotted black;border-radius: 0.25em;box-sizing: border-box;margin-bottom: 0.5em;}#sk-container-id-3 div.sk-estimator:hover {background-color: #d4ebff;}#sk-container-id-3 div.sk-parallel-item::after {content: \"\";width: 100%;border-bottom: 1px solid gray;flex-grow: 1;}#sk-container-id-3 div.sk-label:hover label.sk-toggleable__label {background-color: #d4ebff;}#sk-container-id-3 div.sk-serial::before {content: \"\";position: absolute;border-left: 1px solid gray;box-sizing: border-box;top: 0;bottom: 0;left: 50%;z-index: 0;}#sk-container-id-3 div.sk-serial {display: flex;flex-direction: column;align-items: center;background-color: white;padding-right: 0.2em;padding-left: 0.2em;position: relative;}#sk-container-id-3 div.sk-item {position: relative;z-index: 1;}#sk-container-id-3 div.sk-parallel {display: flex;align-items: stretch;justify-content: center;background-color: white;position: relative;}#sk-container-id-3 div.sk-item::before, #sk-container-id-3 div.sk-parallel-item::before {content: \"\";position: absolute;border-left: 1px solid gray;box-sizing: border-box;top: 0;bottom: 0;left: 50%;z-index: -1;}#sk-container-id-3 div.sk-parallel-item {display: flex;flex-direction: column;z-index: 1;position: relative;background-color: white;}#sk-container-id-3 div.sk-parallel-item:first-child::after {align-self: flex-end;width: 50%;}#sk-container-id-3 div.sk-parallel-item:last-child::after {align-self: flex-start;width: 50%;}#sk-container-id-3 div.sk-parallel-item:only-child::after {width: 0;}#sk-container-id-3 div.sk-dashed-wrapped {border: 1px dashed gray;margin: 0 0.4em 0.5em 0.4em;box-sizing: border-box;padding-bottom: 0.4em;background-color: white;}#sk-container-id-3 div.sk-label label {font-family: monospace;font-weight: bold;display: inline-block;line-height: 1.2em;}#sk-container-id-3 div.sk-label-container {text-align: center;}#sk-container-id-3 div.sk-container {/* jupyter's `normalize.less` sets `[hidden] { display: none; }` but bootstrap.min.css set `[hidden] { display: none !important; }` so we also need the `!important` here to be able to override the default hidden behavior on the sphinx rendered scikit-learn.org. See: https://github.com/scikit-learn/scikit-learn/issues/21755 */display: inline-block !important;position: relative;}#sk-container-id-3 div.sk-text-repr-fallback {display: none;}</style><div id=\"sk-container-id-3\" class=\"sk-top-container\"><div class=\"sk-text-repr-fallback\"><pre>DecisionTreeClassifier()</pre><b>In a Jupyter environment, please rerun this cell to show the HTML representation or trust the notebook. <br />On GitHub, the HTML representation is unable to render, please try loading this page with nbviewer.org.</b></div><div class=\"sk-container\" hidden><div class=\"sk-item\"><div class=\"sk-estimator sk-toggleable\"><input class=\"sk-toggleable__control sk-hidden--visually\" id=\"sk-estimator-id-3\" type=\"checkbox\" checked><label for=\"sk-estimator-id-3\" class=\"sk-toggleable__label sk-toggleable__label-arrow\">DecisionTreeClassifier</label><div class=\"sk-toggleable__content\"><pre>DecisionTreeClassifier()</pre></div></div></div></div></div>"
      ],
      "text/plain": [
       "DecisionTreeClassifier()"
      ]
     },
     "execution_count": 56,
     "metadata": {},
     "output_type": "execute_result"
    }
   ],
   "source": [
    "model = DecisionTreeClassifier()\n",
    "model.fit(X, y)"
   ]
  },
  {
   "cell_type": "code",
   "execution_count": 57,
   "id": "22c7964c-8700-4f96-a3f1-f0435115b41f",
   "metadata": {},
   "outputs": [],
   "source": [
    "new_data = pd.DataFrame(new_user, index=[0])"
   ]
  },
  {
   "cell_type": "code",
   "execution_count": 58,
   "id": "94bf656e-8f18-4418-8ad7-720a56abe428",
   "metadata": {},
   "outputs": [],
   "source": [
    "new_data = pd.get_dummies(new_data, columns=['Gender', 'Domain Of Expertise'])\n",
    "# Ensure new_user's columns match the dataset's columns\n",
    "new_data = new_data.reindex(columns=X.columns, fill_value=0)"
   ]
  },
  {
   "cell_type": "code",
   "execution_count": 59,
   "id": "3afcfa62-074c-44dc-ac2f-ce21be66a57d",
   "metadata": {},
   "outputs": [
    {
     "name": "stdout",
     "output_type": "stream",
     "text": [
      "Recommended Investment for the new user: Private Bank Investment\n"
     ]
    }
   ],
   "source": [
    "prediction = model.predict(new_data)\n",
    "print(\"Recommended Investment for the new user:\", prediction[0])"
   ]
  },
  {
   "cell_type": "code",
   "execution_count": null,
   "id": "1512e167-9366-4e5e-aa44-4e75f4191529",
   "metadata": {},
   "outputs": [],
   "source": []
  }
 ],
 "metadata": {
  "kernelspec": {
   "display_name": "Python 3 (ipykernel)",
   "language": "python",
   "name": "python3"
  },
  "language_info": {
   "codemirror_mode": {
    "name": "ipython",
    "version": 3
   },
   "file_extension": ".py",
   "mimetype": "text/x-python",
   "name": "python",
   "nbconvert_exporter": "python",
   "pygments_lexer": "ipython3",
   "version": "3.8.10"
  }
 },
 "nbformat": 4,
 "nbformat_minor": 5
}
